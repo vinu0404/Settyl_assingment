{
 "cells": [
  {
   "cell_type": "code",
   "execution_count": 4,
   "metadata": {},
   "outputs": [
    {
     "name": "stdout",
     "output_type": "stream",
     "text": [
      "Epoch 1/10\n",
      "31/31 [==============================] - 6s 45ms/step - loss: 2.2803 - accuracy: 0.2129 - val_loss: 2.0593 - val_accuracy: 0.2286\n",
      "Epoch 2/10\n",
      "31/31 [==============================] - 0s 13ms/step - loss: 1.8353 - accuracy: 0.2538 - val_loss: 1.6147 - val_accuracy: 0.2163\n",
      "Epoch 3/10\n",
      "31/31 [==============================] - 0s 13ms/step - loss: 1.5022 - accuracy: 0.3091 - val_loss: 1.3417 - val_accuracy: 0.7429\n",
      "Epoch 4/10\n",
      "31/31 [==============================] - 0s 16ms/step - loss: 1.0760 - accuracy: 0.6203 - val_loss: 0.9030 - val_accuracy: 0.7592\n",
      "Epoch 5/10\n",
      "31/31 [==============================] - 1s 17ms/step - loss: 0.6838 - accuracy: 0.7943 - val_loss: 0.7010 - val_accuracy: 0.7388\n",
      "Epoch 6/10\n",
      "31/31 [==============================] - 1s 18ms/step - loss: 0.5575 - accuracy: 0.8127 - val_loss: 0.6248 - val_accuracy: 0.7714\n",
      "Epoch 7/10\n",
      "31/31 [==============================] - 1s 19ms/step - loss: 0.4657 - accuracy: 0.8424 - val_loss: 0.5383 - val_accuracy: 0.8163\n",
      "Epoch 8/10\n",
      "31/31 [==============================] - 1s 17ms/step - loss: 0.3861 - accuracy: 0.8588 - val_loss: 0.5071 - val_accuracy: 0.8122\n",
      "Epoch 9/10\n",
      "31/31 [==============================] - 1s 20ms/step - loss: 0.3753 - accuracy: 0.8598 - val_loss: 0.4511 - val_accuracy: 0.8408\n",
      "Epoch 10/10\n",
      "31/31 [==============================] - 0s 16ms/step - loss: 0.3024 - accuracy: 0.9007 - val_loss: 0.4065 - val_accuracy: 0.8490\n",
      "8/8 [==============================] - 1s 5ms/step\n",
      "Model accuracy: 0.8490\n",
      "Precision: 0.8193\n",
      "Recall: 0.8490\n"
     ]
    },
    {
     "name": "stderr",
     "output_type": "stream",
     "text": [
      "c:\\Users\\ap\\AppData\\Local\\Programs\\Python\\Python311\\Lib\\site-packages\\sklearn\\metrics\\_classification.py:1509: UndefinedMetricWarning: Precision is ill-defined and being set to 0.0 in labels with no predicted samples. Use `zero_division` parameter to control this behavior.\n",
      "  _warn_prf(average, modifier, f\"{metric.capitalize()} is\", len(result))\n"
     ]
    },
    {
     "name": "stdout",
     "output_type": "stream",
     "text": [
      "INFO:tensorflow:Assets written to: status_prediction_model_lstm.pkl\\assets\n"
     ]
    },
    {
     "name": "stderr",
     "output_type": "stream",
     "text": [
      "INFO:tensorflow:Assets written to: status_prediction_model_lstm.pkl\\assets\n"
     ]
    },
    {
     "name": "stdout",
     "output_type": "stream",
     "text": [
      "Model training complete\n"
     ]
    }
   ],
   "source": [
    "import pandas as pd\n",
    "import numpy as np\n",
    "from tensorflow.keras.models import Sequential\n",
    "from tensorflow.keras.layers import Embedding, LSTM, Dense, Dropout\n",
    "from tensorflow.keras.preprocessing.text import Tokenizer\n",
    "from tensorflow.keras.preprocessing.sequence import pad_sequences\n",
    "from sklearn.model_selection import train_test_split\n",
    "from sklearn.preprocessing import LabelEncoder\n",
    "from sklearn.metrics import accuracy_score, precision_score, recall_score\n",
    "import pickle\n",
    "\n",
    "# Loading the preprocessed dataset\n",
    "df = pd.read_json('preprocessed_dataset.json')\n",
    "\n",
    "# Encode the internal status labels\n",
    "label_encoder = LabelEncoder()\n",
    "df['internalStatus_encoded'] = label_encoder.fit_transform(df['internalStatus'])\n",
    "\n",
    "# Split the dataset into train and test sets\n",
    "X_train, X_test, y_train, y_test = train_test_split(df['externalStatus'], df['internalStatus_encoded'], test_size=0.2, random_state=42)\n",
    "\n",
    "# Tokenize the external status descriptions\n",
    "tokenizer = Tokenizer()\n",
    "tokenizer.fit_on_texts(X_train)\n",
    "X_train_seq = tokenizer.texts_to_sequences(X_train)\n",
    "X_test_seq = tokenizer.texts_to_sequences(X_test)\n",
    "\n",
    "# Pad sequences to the same length\n",
    "max_seq_length = max(len(seq) for seq in X_train_seq)\n",
    "X_train_padded = pad_sequences(X_train_seq, maxlen=max_seq_length, padding='post')\n",
    "X_test_padded = pad_sequences(X_test_seq, maxlen=max_seq_length, padding='post')\n",
    "\n",
    "# Build an LSTM model\n",
    "model = Sequential()\n",
    "model.add(Embedding(input_dim=len(tokenizer.word_index) + 1, output_dim=64, input_length=max_seq_length))\n",
    "model.add(LSTM(64, return_sequences=True))\n",
    "model.add(LSTM(32))\n",
    "model.add(Dense(32, activation='relu'))\n",
    "model.add(Dropout(0.2))\n",
    "model.add(Dense(len(label_encoder.classes_), activation='softmax'))\n",
    "\n",
    "model.compile(loss='sparse_categorical_crossentropy', optimizer='adam', metrics=['accuracy'])\n",
    "\n",
    "# Train the model\n",
    "model.fit(X_train_padded, y_train, epochs=10, batch_size=32, validation_data=(X_test_padded, y_test))\n",
    "\n",
    "# Evaluate the model\n",
    "y_pred = model.predict(X_test_padded)\n",
    "y_pred_classes = np.argmax(y_pred, axis=1)\n",
    "accuracy = accuracy_score(y_test, y_pred_classes)\n",
    "precision = precision_score(y_test, y_pred_classes, average='weighted')\n",
    "recall = recall_score(y_test, y_pred_classes, average='weighted')\n",
    "\n",
    "print(f\"Model accuracy: {accuracy:.4f}\")\n",
    "print(f\"Precision: {precision:.4f}\")\n",
    "print(f\"Recall: {recall:.4f}\")\n",
    "\n",
    "# Save the trained model\n",
    "model.save('status_prediction_model_lstm.pkl')\n",
    "\n",
    "with open('tokenizer.pkl', 'wb') as f:\n",
    "    pickle.dump(tokenizer, f)\n",
    "with open('label_encoder.pkl', 'wb') as f:\n",
    "    pickle.dump(label_encoder, f)\n",
    "\n",
    "print(\"Model training complete\")\n"
   ]
  },
  {
   "cell_type": "code",
   "execution_count": 3,
   "metadata": {},
   "outputs": [
    {
     "name": "stdout",
     "output_type": "stream",
     "text": [
      "Epoch 1/10\n",
      "31/31 [==============================] - 3s 24ms/step - loss: 1.7741 - accuracy: 0.5425 - val_loss: 1.1041 - val_accuracy: 0.7510\n",
      "Epoch 2/10\n",
      "31/31 [==============================] - 0s 10ms/step - loss: 0.7428 - accuracy: 0.8229 - val_loss: 0.5517 - val_accuracy: 0.8163\n",
      "Epoch 3/10\n",
      "31/31 [==============================] - 0s 9ms/step - loss: 0.3988 - accuracy: 0.9284 - val_loss: 0.3175 - val_accuracy: 0.9592\n",
      "Epoch 4/10\n",
      "31/31 [==============================] - 0s 10ms/step - loss: 0.2265 - accuracy: 0.9713 - val_loss: 0.2005 - val_accuracy: 0.9796\n",
      "Epoch 5/10\n",
      "31/31 [==============================] - 0s 9ms/step - loss: 0.1568 - accuracy: 0.9795 - val_loss: 0.1452 - val_accuracy: 0.9796\n",
      "Epoch 6/10\n",
      "31/31 [==============================] - 0s 9ms/step - loss: 0.1107 - accuracy: 0.9867 - val_loss: 0.1152 - val_accuracy: 0.9796\n",
      "Epoch 7/10\n",
      "31/31 [==============================] - 0s 10ms/step - loss: 0.0882 - accuracy: 0.9898 - val_loss: 0.0910 - val_accuracy: 0.9796\n",
      "Epoch 8/10\n",
      "31/31 [==============================] - 0s 9ms/step - loss: 0.0737 - accuracy: 0.9857 - val_loss: 0.0791 - val_accuracy: 0.9837\n",
      "Epoch 9/10\n",
      "31/31 [==============================] - 0s 10ms/step - loss: 0.0593 - accuracy: 0.9928 - val_loss: 0.0677 - val_accuracy: 0.9837\n",
      "Epoch 10/10\n",
      "31/31 [==============================] - 0s 10ms/step - loss: 0.0515 - accuracy: 0.9898 - val_loss: 0.0648 - val_accuracy: 0.9837\n",
      "8/8 [==============================] - 0s 5ms/step\n",
      "Model accuracy: 0.9837\n",
      "Precision: 0.9761\n",
      "Recall: 0.9837\n"
     ]
    },
    {
     "name": "stderr",
     "output_type": "stream",
     "text": [
      "c:\\Users\\ap\\AppData\\Local\\Programs\\Python\\Python311\\Lib\\site-packages\\sklearn\\metrics\\_classification.py:1509: UndefinedMetricWarning: Precision is ill-defined and being set to 0.0 in labels with no predicted samples. Use `zero_division` parameter to control this behavior.\n",
      "  _warn_prf(average, modifier, f\"{metric.capitalize()} is\", len(result))\n"
     ]
    },
    {
     "name": "stdout",
     "output_type": "stream",
     "text": [
      "INFO:tensorflow:Assets written to: status_prediction_model_deep_rnn.pkl\\assets\n"
     ]
    },
    {
     "name": "stderr",
     "output_type": "stream",
     "text": [
      "INFO:tensorflow:Assets written to: status_prediction_model_deep_rnn.pkl\\assets\n"
     ]
    },
    {
     "name": "stdout",
     "output_type": "stream",
     "text": [
      "Model training completed\n"
     ]
    }
   ],
   "source": [
    "import pandas as pd\n",
    "import numpy as np\n",
    "from tensorflow.keras.models import Sequential\n",
    "from tensorflow.keras.layers import Embedding, SimpleRNN, Dense, Dropout\n",
    "from tensorflow.keras.preprocessing.text import Tokenizer\n",
    "from tensorflow.keras.preprocessing.sequence import pad_sequences\n",
    "from sklearn.model_selection import train_test_split\n",
    "from sklearn.preprocessing import LabelEncoder\n",
    "from sklearn.metrics import accuracy_score, precision_score, recall_score\n",
    "import pickle\n",
    "\n",
    "# Loading the preprocessed dataset\n",
    "df = pd.read_json('preprocessed_dataset.json')\n",
    "\n",
    "# Encode the internal status labels\n",
    "label_encoder = LabelEncoder()\n",
    "df['internalStatus_encoded'] = label_encoder.fit_transform(df['internalStatus'])\n",
    "\n",
    "# Split the dataset into train and test sets\n",
    "X_train, X_test, y_train, y_test = train_test_split(df['externalStatus'], df['internalStatus_encoded'], test_size=0.2, random_state=42)\n",
    "\n",
    "# Tokenize the external status descriptions\n",
    "tokenizer = Tokenizer()\n",
    "tokenizer.fit_on_texts(X_train)\n",
    "X_train_seq = tokenizer.texts_to_sequences(X_train)\n",
    "X_test_seq = tokenizer.texts_to_sequences(X_test)\n",
    "\n",
    "# Pad sequences to the same length\n",
    "max_seq_length = max(len(seq) for seq in X_train_seq)\n",
    "X_train_padded = pad_sequences(X_train_seq, maxlen=max_seq_length, padding='post')\n",
    "X_test_padded = pad_sequences(X_test_seq, maxlen=max_seq_length, padding='post')\n",
    "\n",
    "# Deep RNN model\n",
    "model = Sequential()\n",
    "model.add(Embedding(input_dim=len(tokenizer.word_index) + 1, output_dim=64, input_length=max_seq_length))\n",
    "model.add(SimpleRNN(64, return_sequences=True))\n",
    "model.add(SimpleRNN(32))\n",
    "model.add(Dense(32, activation='relu'))\n",
    "model.add(Dropout(0.2))\n",
    "model.add(Dense(len(label_encoder.classes_), activation='softmax'))\n",
    "\n",
    "model.compile(loss='sparse_categorical_crossentropy', optimizer='adam', metrics=['accuracy'])\n",
    "\n",
    "# Train the model\n",
    "model.fit(X_train_padded, y_train, epochs=10, batch_size=32, validation_data=(X_test_padded, y_test))\n",
    "\n",
    "# Evaluate the model\n",
    "y_pred = model.predict(X_test_padded)\n",
    "y_pred_classes = np.argmax(y_pred, axis=1)\n",
    "accuracy = accuracy_score(y_test, y_pred_classes)\n",
    "precision = precision_score(y_test, y_pred_classes, average='weighted')\n",
    "recall = recall_score(y_test, y_pred_classes, average='weighted')\n",
    "\n",
    "print(f\"Model accuracy: {accuracy:.4f}\")\n",
    "print(f\"Precision: {precision:.4f}\")\n",
    "print(f\"Recall: {recall:.4f}\")\n",
    "\n",
    "# Save the trained model\n",
    "model.save('status_prediction_model_deep_rnn.pkl')\n",
    "with open('tokenizer_deeprnn.pkl', 'wb') as f:\n",
    "    pickle.dump(tokenizer, f)\n",
    "with open('label_encoder_deeprnn.pkl', 'wb') as f:\n",
    "    pickle.dump(label_encoder, f)\n",
    "\n",
    "\n",
    "print(\"Model training completed\")\n"
   ]
  },
  {
   "cell_type": "code",
   "execution_count": null,
   "metadata": {},
   "outputs": [],
   "source": []
  }
 ],
 "metadata": {
  "kernelspec": {
   "display_name": "Python 3",
   "language": "python",
   "name": "python3"
  },
  "language_info": {
   "codemirror_mode": {
    "name": "ipython",
    "version": 3
   },
   "file_extension": ".py",
   "mimetype": "text/x-python",
   "name": "python",
   "nbconvert_exporter": "python",
   "pygments_lexer": "ipython3",
   "version": "3.11.0rc2"
  }
 },
 "nbformat": 4,
 "nbformat_minor": 2
}
